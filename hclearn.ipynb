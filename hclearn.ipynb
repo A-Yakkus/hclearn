{
 "metadata": {
  "name": ""
 },
 "nbformat": 3,
 "nbformat_minor": 0,
 "worksheets": [
  {
   "cells": [
    {
     "cell_type": "markdown",
     "metadata": {},
     "source": [
      "hclearn\n",
      "=======\n",
      "\n",
      "Unitary Coherent Hippocampus Model, created by Charles Fox and Alan Saul and edited by Mathew Evans\n",
      "--------------------\n",
      "*Below are notes on how I (M.E.) understand what the code does. I'll also be trying to run the code in this notebook!*\n",
      "\n",
      "\n",
      "**rbm.py :** Restricted Boltzmann Machine code, based on Hinton's TRBM work. Includes a number of functions for building the network, setting observed and hidden units, training weights and measuring the 'Energy'. \n",
      "\n",
      "  * `boltzmannProbs(W,x) :` Returns the probability of a node being on (is the weight.*x above a half?).\n",
      "  \n",
      "  * `trainPriorBias(hids) :` Normalises and concatenates the hidden values (I think! 30/4/14). Uses addBias(hids) to concatenate the hidden node values (their energy?). Also adds/removes tiny values to/from zeros/ones, and uses invsig to normalise the output\n",
      "  \n",
      "  * `addBias(xs) :` reshapes and concatenates input vector with a column of ones (I think! 30/4/14).  \n",
      "\n",
      "\n",
      "\n",
      "**cffun.py :** More functions, probably from Charles Fox (hence CFfun).\n",
      "\n",
      "  * `invsig(x) :` takes neg log of 1/x - 1. Squashes x into the range 0:1, with infinitely large outputs near those values. (Try inputing -log((1/x)-1)) into google."
     ]
    },
    {
     "cell_type": "markdown",
     "metadata": {},
     "source": [
      "The following cells contains code originally in **`test.py`**, divided up into chunks for debugging"
     ]
    },
    {
     "cell_type": "code",
     "collapsed": false,
     "input": [
      "from numpy import *\n",
      "import numpy as np\n",
      "import pdb"
     ],
     "language": "python",
     "metadata": {},
     "outputs": [],
     "prompt_number": 4
    },
    {
     "cell_type": "code",
     "collapsed": false,
     "input": [
      "from makeMaze import *\n",
      "from path import *\n",
      "\n",
      "from cffun import *\n",
      "\n",
      "from rbm import *"
     ],
     "language": "python",
     "metadata": {},
     "outputs": [
      {
       "ename": "ImportError",
       "evalue": "No module named cv",
       "output_type": "pyerr",
       "traceback": [
        "\u001b[0;31m---------------------------------------------------------------------------\u001b[0m\n\u001b[0;31mImportError\u001b[0m                               Traceback (most recent call last)",
        "\u001b[0;32m<ipython-input-3-105cfeabc139>\u001b[0m in \u001b[0;36m<module>\u001b[0;34m()\u001b[0m\n\u001b[1;32m      3\u001b[0m \u001b[0;32mimport\u001b[0m \u001b[0mpdb\u001b[0m\u001b[0;34m\u001b[0m\u001b[0m\n\u001b[1;32m      4\u001b[0m \u001b[0;34m\u001b[0m\u001b[0m\n\u001b[0;32m----> 5\u001b[0;31m \u001b[0;32mfrom\u001b[0m \u001b[0mmakeMaze\u001b[0m \u001b[0;32mimport\u001b[0m \u001b[0;34m*\u001b[0m\u001b[0;34m\u001b[0m\u001b[0m\n\u001b[0m\u001b[1;32m      6\u001b[0m \u001b[0;32mfrom\u001b[0m \u001b[0mpath\u001b[0m \u001b[0;32mimport\u001b[0m \u001b[0;34m*\u001b[0m\u001b[0;34m\u001b[0m\u001b[0m\n\u001b[1;32m      7\u001b[0m \u001b[0;34m\u001b[0m\u001b[0m\n",
        "\u001b[0;32m/Users/mathew/work/hclearn/makeMaze.py\u001b[0m in \u001b[0;36m<module>\u001b[0;34m()\u001b[0m\n\u001b[1;32m      1\u001b[0m \u001b[0;32mimport\u001b[0m \u001b[0mnumpy\u001b[0m \u001b[0;32mas\u001b[0m \u001b[0mnp\u001b[0m\u001b[0;34m\u001b[0m\u001b[0m\n\u001b[0;32m----> 2\u001b[0;31m \u001b[0;32mfrom\u001b[0m \u001b[0mSURFExtractor\u001b[0m \u001b[0;32mimport\u001b[0m \u001b[0mmakeSURFRepresentation\u001b[0m\u001b[0;34m\u001b[0m\u001b[0m\n\u001b[0m\u001b[1;32m      3\u001b[0m \u001b[0;32mfrom\u001b[0m \u001b[0mlocation\u001b[0m \u001b[0;32mimport\u001b[0m \u001b[0mLocation\u001b[0m\u001b[0;34m\u001b[0m\u001b[0m\n\u001b[1;32m      4\u001b[0m \u001b[0;34m\u001b[0m\u001b[0m\n\u001b[1;32m      5\u001b[0m \u001b[0;31m#an ideal set of EC responses, to a particular agent state (excluding lightAhead)\u001b[0m\u001b[0;34m\u001b[0m\u001b[0;34m\u001b[0m\u001b[0m\n",
        "\u001b[0;32m/Users/mathew/work/hclearn/SURFExtractor.py\u001b[0m in \u001b[0;36m<module>\u001b[0;34m()\u001b[0m\n\u001b[1;32m      1\u001b[0m \u001b[0;31m#!/usr/bin/env python\u001b[0m\u001b[0;34m\u001b[0m\u001b[0;34m\u001b[0m\u001b[0m\n\u001b[1;32m      2\u001b[0m \u001b[0;32mimport\u001b[0m \u001b[0mos\u001b[0m\u001b[0;34m\u001b[0m\u001b[0m\n\u001b[0;32m----> 3\u001b[0;31m \u001b[0;32mimport\u001b[0m \u001b[0mcv\u001b[0m\u001b[0;34m\u001b[0m\u001b[0m\n\u001b[0m\u001b[1;32m      4\u001b[0m \u001b[0;32mimport\u001b[0m \u001b[0mnumpy\u001b[0m \u001b[0;32mas\u001b[0m \u001b[0mnp\u001b[0m\u001b[0;34m\u001b[0m\u001b[0m\n\u001b[1;32m      5\u001b[0m \u001b[0;32mimport\u001b[0m \u001b[0mpyflann\u001b[0m \u001b[0;32mas\u001b[0m \u001b[0mflann\u001b[0m\u001b[0;34m\u001b[0m\u001b[0m\n",
        "\u001b[0;31mImportError\u001b[0m: No module named cv"
       ]
      }
     ],
     "prompt_number": 3
    },
    {
     "cell_type": "code",
     "collapsed": false,
     "input": [
      "def err(ps, hids):\n",
      "    return sum( (ps-hids)**2 ) / hids.shape[0]\n",
      "\n",
      "\n",
      "def fuse2(p1,p2):\n",
      "    return 1.0 / (1.0 +   ((1-p1)*(1-p2)/(p1 * p2)  ))\n",
      "\n",
      "#data was noisy GPS firing\n",
      "WR = np.load('tWR.npy')\n",
      "WO = np.load('tWO.npy')\n",
      "WS = np.load('tWS.npy')\n",
      "WB = np.load('tWB.npy'); WB=WB.reshape((86,1))\n",
      "\n",
      "WR = np.random.random(WR.shape)\n",
      "\n",
      "hids=np.load('hids.npy')\n",
      "odom=np.load('odom.npy')\n",
      "senses=np.load('senses.npy')\n",
      "\n",
      "\n",
      "hidslag = lag(hids,1)\n",
      "\n",
      "#predictions from lam only\n",
      "\n",
      "T = hids.shape[0]\n",
      "\n",
      "p_null = stripBias(boltzmannProbs(WB, np.ones((T,1)).transpose() ).transpose())\n",
      "e_null = sum( (p_null-hids)**2 ) / T\n",
      "\n",
      "p_odom = stripBias(boltzmannProbs(WO, addBias(odom).transpose()).transpose())\n",
      "e_odom = sum( (p_odom-hids)**2 ) / T\n",
      "\n",
      "p_senses = stripBias(boltzmannProbs(WS, addBias(senses).transpose()).transpose())\n",
      "\n",
      "e_senses = sum( (p_senses-hids)**2 ) / T\n",
      "\n",
      "#predictions from pi only\n",
      "p_trans = stripBias(boltzmannProbs(WR, addBias(hidslag).transpose()).transpose())\n",
      "e_trans = sum( (p_trans-hids)**2 ) / T\n",
      "\n",
      "p_senses_null = fuse(p_senses, p_null)\n",
      "p_odom_null   = fuse(p_odom, p_null)\n",
      "p_trans_null  = fuse(p_trans, p_null)\n",
      "\n",
      "\n",
      "p_all = fuse(p_null, p_odom)\n",
      "p_all = fuse(p_all, p_senses)\n",
      "p_all = fuse(p_all, p_trans) \n",
      "e_all = sum( (p_all-hids)**2 ) / T\n",
      "\n",
      "\n",
      "##TODO convert input and output odom back to EC form.  Plot decoded place errors.\n",
      "\n",
      "\n",
      "pdb.set_trace()\n",
      "\n",
      "dictGrids = DictGrids()\n",
      "ca3_hat_b = addBias(p_all)\n",
      "ca3_gnd_b = addBias(hids)\n",
      "xy_hat = np.zeros((T,2))\n",
      "xy_gnd = np.zeros((T,2))\n",
      "for t in range(0,T):\n",
      "    v_ca3_hat = ca3_hat_b[t,:]\n",
      "    v_ca3_gnd = ca3_gnd_b[t,:]\n",
      "\n",
      "    #TODO make CA3 smart structure -- for hat only (its already optimal in gnd)\n",
      "    ca3 = CA3StateFromVector(v_ca3_hat, 13)\n",
      "    ca3.smartCollapse()\n",
      "    v_ca3_hat = hstack((ca3.toVector(),1))\n",
      "\n",
      "    p_odom   = boltzmannProbs(WO.transpose(), v_ca3_hat) #probs for CA1 cells\n",
      "    p_senses = boltzmannProbs(WS.transpose(), v_ca3_hat) #probs for CA1 cells\n",
      "    ca1 = CA1State(p_odom, p_senses)\n",
      "    loc = Location()\n",
      "    loc.setGrids(ca1.grids, dictGrids)\n",
      "    xy_hat[t,:] = loc.getXY()\n",
      "    \n",
      "\n",
      "    #get ground truth xy, from decoding ground truth hids?\n",
      "    p_odom   = boltzmannProbs(WO.transpose(), v_ca3_gnd) #probs for CA1 cells\n",
      "    p_senses = boltzmannProbs(WS.transpose(), v_ca3_gnd) #probs for CA1 cells\n",
      "    ca1 = CA1State(p_odom, p_senses)\n",
      "    loc = Location()\n",
      "    loc.setGrids(ca1.grids, dictGrids)\n",
      "    xy_gnd[t,:] = loc.getXY()\n",
      "    \n",
      "\n",
      "e =  sum (sum(xy_hat!=xy_gnd, 1)!=0)\n",
      "\n",
      "pdb.set_trace()"
     ],
     "language": "python",
     "metadata": {},
     "outputs": [
      {
       "ename": "ImportError",
       "evalue": "No module named cv",
       "output_type": "pyerr",
       "traceback": [
        "\u001b[0;31m---------------------------------------------------------------------------\u001b[0m\n\u001b[0;31mImportError\u001b[0m                               Traceback (most recent call last)",
        "\u001b[0;32m<ipython-input-1-fd7f0bbc9867>\u001b[0m in \u001b[0;36m<module>\u001b[0;34m()\u001b[0m\n\u001b[1;32m      3\u001b[0m \u001b[0;32mimport\u001b[0m \u001b[0mpdb\u001b[0m\u001b[0;34m\u001b[0m\u001b[0m\n\u001b[1;32m      4\u001b[0m \u001b[0;34m\u001b[0m\u001b[0m\n\u001b[0;32m----> 5\u001b[0;31m \u001b[0;32mfrom\u001b[0m \u001b[0mmakeMaze\u001b[0m \u001b[0;32mimport\u001b[0m \u001b[0;34m*\u001b[0m\u001b[0;34m\u001b[0m\u001b[0m\n\u001b[0m\u001b[1;32m      6\u001b[0m \u001b[0;32mfrom\u001b[0m \u001b[0mpath\u001b[0m \u001b[0;32mimport\u001b[0m \u001b[0;34m*\u001b[0m\u001b[0;34m\u001b[0m\u001b[0m\n\u001b[1;32m      7\u001b[0m \u001b[0;34m\u001b[0m\u001b[0m\n",
        "\u001b[0;32m/Users/mathew/work/hclearn/makeMaze.py\u001b[0m in \u001b[0;36m<module>\u001b[0;34m()\u001b[0m\n\u001b[1;32m      1\u001b[0m \u001b[0;32mimport\u001b[0m \u001b[0mnumpy\u001b[0m \u001b[0;32mas\u001b[0m \u001b[0mnp\u001b[0m\u001b[0;34m\u001b[0m\u001b[0m\n\u001b[0;32m----> 2\u001b[0;31m \u001b[0;32mfrom\u001b[0m \u001b[0mSURFExtractor\u001b[0m \u001b[0;32mimport\u001b[0m \u001b[0mmakeSURFRepresentation\u001b[0m\u001b[0;34m\u001b[0m\u001b[0m\n\u001b[0m\u001b[1;32m      3\u001b[0m \u001b[0;32mfrom\u001b[0m \u001b[0mlocation\u001b[0m \u001b[0;32mimport\u001b[0m \u001b[0mLocation\u001b[0m\u001b[0;34m\u001b[0m\u001b[0m\n\u001b[1;32m      4\u001b[0m \u001b[0;34m\u001b[0m\u001b[0m\n\u001b[1;32m      5\u001b[0m \u001b[0;31m#an ideal set of EC responses, to a particular agent state (excluding lightAhead)\u001b[0m\u001b[0;34m\u001b[0m\u001b[0;34m\u001b[0m\u001b[0m\n",
        "\u001b[0;32m/Users/mathew/work/hclearn/SURFExtractor.py\u001b[0m in \u001b[0;36m<module>\u001b[0;34m()\u001b[0m\n\u001b[1;32m      1\u001b[0m \u001b[0;31m#!/usr/bin/env python\u001b[0m\u001b[0;34m\u001b[0m\u001b[0;34m\u001b[0m\u001b[0m\n\u001b[1;32m      2\u001b[0m \u001b[0;32mimport\u001b[0m \u001b[0mos\u001b[0m\u001b[0;34m\u001b[0m\u001b[0m\n\u001b[0;32m----> 3\u001b[0;31m \u001b[0;32mimport\u001b[0m \u001b[0mcv\u001b[0m\u001b[0;34m\u001b[0m\u001b[0m\n\u001b[0m\u001b[1;32m      4\u001b[0m \u001b[0;32mimport\u001b[0m \u001b[0mnumpy\u001b[0m \u001b[0;32mas\u001b[0m \u001b[0mnp\u001b[0m\u001b[0;34m\u001b[0m\u001b[0m\n\u001b[1;32m      5\u001b[0m \u001b[0;32mimport\u001b[0m \u001b[0mpyflann\u001b[0m \u001b[0;32mas\u001b[0m \u001b[0mflann\u001b[0m\u001b[0;34m\u001b[0m\u001b[0m\n",
        "\u001b[0;31mImportError\u001b[0m: No module named cv"
       ]
      }
     ],
     "prompt_number": 1
    },
    {
     "cell_type": "code",
     "collapsed": false,
     "input": [
      "import cv"
     ],
     "language": "python",
     "metadata": {},
     "outputs": [
      {
       "ename": "ImportError",
       "evalue": "No module named cv",
       "output_type": "pyerr",
       "traceback": [
        "\u001b[0;31m---------------------------------------------------------------------------\u001b[0m\n\u001b[0;31mImportError\u001b[0m                               Traceback (most recent call last)",
        "\u001b[0;32m<ipython-input-5-305887a710d6>\u001b[0m in \u001b[0;36m<module>\u001b[0;34m()\u001b[0m\n\u001b[0;32m----> 1\u001b[0;31m \u001b[0;32mimport\u001b[0m \u001b[0mcv\u001b[0m\u001b[0;34m\u001b[0m\u001b[0m\n\u001b[0m",
        "\u001b[0;31mImportError\u001b[0m: No module named cv"
       ]
      }
     ],
     "prompt_number": 5
    },
    {
     "cell_type": "code",
     "collapsed": false,
     "input": [],
     "language": "python",
     "metadata": {},
     "outputs": []
    }
   ],
   "metadata": {}
  }
 ]
}