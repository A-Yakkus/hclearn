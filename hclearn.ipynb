{
 "metadata": {
  "name": ""
 },
 "nbformat": 3,
 "nbformat_minor": 0,
 "worksheets": [
  {
   "cells": [
    {
     "cell_type": "markdown",
     "metadata": {},
     "source": [
      "hclearn\n",
      "=======\n",
      "\n",
      "Unitary coherent hippocampus model code, created by Charles Fox and Alan Saul and edited by Mathew Evans\n",
      "--------------------\n",
      "*Below are notes on how I (M.E.) understand what the code does. I'll also be trying to run the code in this notebook!*\n",
      "\n",
      "\n",
      "**rbm.py :** Restricted Boltzmann Machine code, based on Hinton's TRBM work. Includes a number of functions for building the network, setting observed and hidden units, training weights and measuring the 'Energy'. \n",
      "\n",
      "  * `boltzmannProbs(W,x) :` Returns the probability of a node being on (is the weight.*x above a half?).\n",
      "  \n",
      "  * `trainPriorBias(hids) :` Normalises and concatenates the hidden values (I think! 30/4/14). Uses addBias(hids) to concatenate the hidden node values (their energy?). Also adds/removes tiny values to/from zeros/ones, and uses invsig to normalise the output\n",
      "  \n",
      "  * `addBias(xs) :` reshapes and concatenates input vector with a column of ones (I think! 30/4/14).  \n",
      "\n",
      "\n",
      "\n",
      "**cffun.py :** More functions, probably from Charles Fox (hence CFfun).\n",
      "\n",
      "  * `invsig(x) :` takes neg log of 1/x - 1. Squashes x into the range 0:1, with infinitely large outputs near those values. (Try inputing -log((1/x)-1)) into google."
     ]
    },
    {
     "cell_type": "code",
     "collapsed": false,
     "input": [
      "test.py"
     ],
     "language": "python",
     "metadata": {},
     "outputs": [
      {
       "ename": "NameError",
       "evalue": "name 'test' is not defined",
       "output_type": "pyerr",
       "traceback": [
        "\u001b[0;31m---------------------------------------------------------------------------\u001b[0m\n\u001b[0;31mNameError\u001b[0m                                 Traceback (most recent call last)",
        "\u001b[0;32m<ipython-input-3-108c521deba4>\u001b[0m in \u001b[0;36m<module>\u001b[0;34m()\u001b[0m\n\u001b[0;32m----> 1\u001b[0;31m \u001b[0mtest\u001b[0m\u001b[0;34m.\u001b[0m\u001b[0mpy\u001b[0m\u001b[0;34m\u001b[0m\u001b[0m\n\u001b[0m",
        "\u001b[0;31mNameError\u001b[0m: name 'test' is not defined"
       ]
      }
     ],
     "prompt_number": 3
    },
    {
     "cell_type": "code",
     "collapsed": false,
     "input": [
      "python test.py"
     ],
     "language": "python",
     "metadata": {},
     "outputs": [
      {
       "ename": "SyntaxError",
       "evalue": "invalid syntax (<ipython-input-2-e44fa5e03c90>, line 1)",
       "output_type": "pyerr",
       "traceback": [
        "\u001b[0;36m  File \u001b[0;32m\"<ipython-input-2-e44fa5e03c90>\"\u001b[0;36m, line \u001b[0;32m1\u001b[0m\n\u001b[0;31m    python test.py\u001b[0m\n\u001b[0m              ^\u001b[0m\n\u001b[0;31mSyntaxError\u001b[0m\u001b[0;31m:\u001b[0m invalid syntax\n"
       ]
      }
     ],
     "prompt_number": 2
    },
    {
     "cell_type": "code",
     "collapsed": false,
     "input": [],
     "language": "python",
     "metadata": {},
     "outputs": []
    }
   ],
   "metadata": {}
  }
 ]
}